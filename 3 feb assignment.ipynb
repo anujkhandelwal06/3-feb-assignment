{
 "cells": [
  {
   "cell_type": "code",
   "execution_count": 1,
   "id": "884d37bc-b0c8-4d20-bad5-8922021320e1",
   "metadata": {},
   "outputs": [],
   "source": [
    "#The keyword used to create a function is \"def\"."
   ]
  },
  {
   "cell_type": "code",
   "execution_count": 2,
   "id": "d326d555-1247-4ee8-8947-ef6505c10975",
   "metadata": {},
   "outputs": [
    {
     "name": "stdout",
     "output_type": "stream",
     "text": [
      "[1, 3, 5, 7, 9, 11, 13, 15, 17, 19, 21, 23, 25]\n"
     ]
    }
   ],
   "source": [
    "#function to return a list of odd numbers in the range of 1 to 25.\n",
    "\n",
    "def odd_numbers():\n",
    "    odd_nums=[]\n",
    "    for num in range(1,26):\n",
    "        if num%2 !=0:\n",
    "            odd_nums.append(num)\n",
    "    return odd_nums\n",
    "print(odd_numbers())\n",
    "    \n"
   ]
  },
  {
   "cell_type": "code",
   "execution_count": 3,
   "id": "03ff0a87-3383-4120-97df-b1b9deacb882",
   "metadata": {},
   "outputs": [],
   "source": [
    "#*args : n number of argument can be passed inside a function and its not a keyword it as a convection.steric is main to pass multiple data\n",
    "\n",
    "#**kwargs: keyword args user need multiple the data in dictionary format as key and value pair"
   ]
  },
  {
   "cell_type": "code",
   "execution_count": 8,
   "id": "939f651c-0fec-41c7-a93a-062a5489f575",
   "metadata": {},
   "outputs": [
    {
     "name": "stdout",
     "output_type": "stream",
     "text": [
      "15\n"
     ]
    }
   ],
   "source": [
    "def add_numbers(*args):\n",
    "    sum = 0\n",
    "    for arg in args:\n",
    "        sum += arg\n",
    "    return sum\n",
    "result = add_numbers(1, 2, 3, 4, 5)\n",
    "print(result)  "
   ]
  },
  {
   "cell_type": "code",
   "execution_count": 10,
   "id": "cef49031-ecb0-4a2a-8ce5-4d86acc35402",
   "metadata": {},
   "outputs": [
    {
     "name": "stdout",
     "output_type": "stream",
     "text": [
      "name: anuj\n",
      "age: 21\n",
      "city: shirdi\n"
     ]
    }
   ],
   "source": [
    "def print_details(**kwargs):\n",
    "    for key, value in kwargs.items():\n",
    "        print(f\"{key}: {value}\")\n",
    "print_details(name=\"anuj\", age=21, city=\"shirdi\")"
   ]
  },
  {
   "cell_type": "code",
   "execution_count": 1,
   "id": "c52e8224-6998-4b3d-af40-9564e40838b2",
   "metadata": {},
   "outputs": [],
   "source": [
    "##iterator: helps you go through a collection of items one by one, without needing to know how the collection is structured or how it works internally.It's like a pointer that points to the current item in the collection and allows you to move to the next item whenever you want. This is useful when you need to process each item in a collection one by one, and you don't want to worry about the details of how the collection works."
   ]
  },
  {
   "cell_type": "code",
   "execution_count": null,
   "id": "7328cf16-351c-4241-85d7-de602642ede4",
   "metadata": {},
   "outputs": [],
   "source": [
    "#To initialize an iterator object, we can use the built-in function iter(). \n",
    "#To iterate over the elements of the iterator, we can use the built-in function next(). \n",
    "#We can also use a for loop to iterate over the elements of an iterator."
   ]
  },
  {
   "cell_type": "code",
   "execution_count": 3,
   "id": "457e646c-9864-4eee-a2f8-23ce9f49658f",
   "metadata": {},
   "outputs": [
    {
     "name": "stdout",
     "output_type": "stream",
     "text": [
      "2\n",
      "4\n",
      "6\n",
      "8\n",
      "10\n"
     ]
    }
   ],
   "source": [
    "my_list=[2,4,6,8,10,12,14,16,18,20]\n",
    "my_iterator=iter(my_list)\n",
    "for i in range(5):\n",
    "    print(next(my_iterator))"
   ]
  },
  {
   "cell_type": "code",
   "execution_count": 4,
   "id": "889593e2-c09e-4d80-880b-6f3422bbf24e",
   "metadata": {},
   "outputs": [],
   "source": [
    "#Generator fuction : keeps on generating our outcome without holding it in a memoery is generator function\n",
    "#yield is special reserved keyword helps generating the generator function"
   ]
  },
  {
   "cell_type": "code",
   "execution_count": 5,
   "id": "d81dfb7f-8bc0-4177-b245-acdf380d2abe",
   "metadata": {},
   "outputs": [],
   "source": [
    "def test_fib(n):\n",
    "    a, b = 0, 1\n",
    "    for i in range(n):\n",
    "        yield a\n",
    "        a, b = b, a + b"
   ]
  },
  {
   "cell_type": "code",
   "execution_count": 6,
   "id": "fd181c4e-9875-4632-bc96-7c2f7fbfa8be",
   "metadata": {},
   "outputs": [
    {
     "data": {
      "text/plain": [
       "<generator object test_fib at 0x7f8391805d20>"
      ]
     },
     "execution_count": 6,
     "metadata": {},
     "output_type": "execute_result"
    }
   ],
   "source": [
    "test_fib(10)"
   ]
  },
  {
   "cell_type": "code",
   "execution_count": 7,
   "id": "b1ab3ed0-41f0-43cb-98aa-97aebde7d87a",
   "metadata": {},
   "outputs": [
    {
     "name": "stdout",
     "output_type": "stream",
     "text": [
      "0\n",
      "1\n",
      "1\n",
      "2\n",
      "3\n",
      "5\n",
      "8\n",
      "13\n",
      "21\n",
      "34\n"
     ]
    }
   ],
   "source": [
    "for i in test_fib(10):\n",
    "    print(i)"
   ]
  },
  {
   "cell_type": "code",
   "execution_count": 14,
   "id": "389ad5e8-cc2d-43e5-b0e6-54b21de67f7d",
   "metadata": {},
   "outputs": [],
   "source": [
    "#Generator function for prime no. less than 1000"
   ]
  },
  {
   "cell_type": "code",
   "execution_count": 15,
   "id": "5e8b45f6-0974-4758-a915-577a5a7394fa",
   "metadata": {},
   "outputs": [],
   "source": [
    "def generate_primes():\n",
    "    primes = []\n",
    "    for num in range(2, 1000):\n",
    "        is_prime = True\n",
    "        for divisor in range(2, int(num ** 0.5) + 1):\n",
    "            if num % divisor == 0:\n",
    "                is_prime = False\n",
    "                break\n",
    "        if is_prime:\n",
    "            primes.append(num)\n",
    "            yield num"
   ]
  },
  {
   "cell_type": "code",
   "execution_count": 16,
   "id": "8cbf7d4e-efa7-455f-8991-36ec24d5a3fd",
   "metadata": {},
   "outputs": [
    {
     "name": "stdout",
     "output_type": "stream",
     "text": [
      "2\n",
      "3\n",
      "5\n",
      "7\n",
      "11\n",
      "13\n",
      "17\n",
      "19\n",
      "23\n",
      "29\n",
      "31\n",
      "37\n",
      "41\n",
      "43\n",
      "47\n",
      "53\n",
      "59\n",
      "61\n",
      "67\n",
      "71\n"
     ]
    }
   ],
   "source": [
    "generator = generate_primes()\n",
    "for i in range(20):\n",
    "    print(next(generator))"
   ]
  },
  {
   "cell_type": "code",
   "execution_count": 2,
   "id": "592751c2-2e93-4c93-a32c-f9978711581e",
   "metadata": {},
   "outputs": [
    {
     "name": "stdout",
     "output_type": "stream",
     "text": [
      "0\n",
      "1\n",
      "1\n",
      "2\n",
      "3\n",
      "5\n",
      "8\n",
      "13\n",
      "21\n",
      "34\n"
     ]
    }
   ],
   "source": [
    "#print the first 10 Fibonacci numbers using a while loop\n",
    "\n",
    "a=0\n",
    "b=1\n",
    "count=0\n",
    "while count<10:\n",
    "        print(a)\n",
    "        c=a+b\n",
    "        a=b\n",
    "        b=c\n",
    "        count=count+1"
   ]
  },
  {
   "cell_type": "code",
   "execution_count": 4,
   "id": "794f38cd-a9f6-4ba6-8583-fb53d394aa44",
   "metadata": {},
   "outputs": [
    {
     "name": "stdout",
     "output_type": "stream",
     "text": [
      "['p', 'w', 's', 'k', 'i', 'l', 'l', 's']\n"
     ]
    }
   ],
   "source": [
    "#List Comprehension to iterate through the given string: ‘pwskills’.\n",
    "\n",
    "string=\"pwskills\"\n",
    "output=[char for char in string if char in 'pwskills']\n",
    "\n",
    "print(output)\n",
    "\n",
    "\n",
    "#We define a string variable named string with the value 'pwskills'.\n",
    "#In the list comprehension, we iterate through each character of the string using the for loop.\n",
    "#We check if the current character is in the string 'pwskills' using the if condition.\n",
    "#If the condition is true, we append the current character to the output list using the list append method.\n",
    "#Finally, we print the output list. The expected output is ['p', 'w', 's', 'k', 'i', 'l', 'l', 's']."
   ]
  },
  {
   "cell_type": "code",
   "execution_count": 7,
   "id": "ff622a13-7f09-434d-ab3c-66f842f73272",
   "metadata": {},
   "outputs": [],
   "source": [
    "l=[\"pwskills\"]\n",
    "l1=[]\n",
    "for i in l:\n",
    "    l1.append(i in char for char in string if char in 'pwskills')"
   ]
  },
  {
   "cell_type": "code",
   "execution_count": 8,
   "id": "85d2b344-3191-4134-a04a-cd30cbc1c6a9",
   "metadata": {},
   "outputs": [
    {
     "data": {
      "text/plain": [
       "[<generator object <genexpr> at 0x7ff3538ca110>]"
      ]
     },
     "execution_count": 8,
     "metadata": {},
     "output_type": "execute_result"
    }
   ],
   "source": [
    "l1"
   ]
  },
  {
   "cell_type": "code",
   "execution_count": 13,
   "id": "90b15472-383a-4352-9204-400427365235",
   "metadata": {},
   "outputs": [
    {
     "name": "stdout",
     "output_type": "stream",
     "text": [
      "['p', 'w', 's', 'k', 'i', 'l', 'l', 's']\n"
     ]
    }
   ],
   "source": [
    "print(output)"
   ]
  },
  {
   "cell_type": "code",
   "execution_count": 15,
   "id": "28078a1c-13dd-4c05-b9c5-90740d69882b",
   "metadata": {},
   "outputs": [
    {
     "name": "stdin",
     "output_type": "stream",
     "text": [
      "Enter your number: 232\n"
     ]
    },
    {
     "name": "stdout",
     "output_type": "stream",
     "text": [
      "232 is a palindrome number\n"
     ]
    }
   ],
   "source": [
    "#Python program that checks whether a given number is a palindrome or not using a while loop\n",
    "\n",
    "num=int(input(\"Enter your number:\"))\n",
    "temp=num\n",
    "reverse_num=0\n",
    "\n",
    "while temp>0:\n",
    "    digit=temp%10\n",
    "    reverse_num=reverse_num*10+digit\n",
    "    temp//=10\n",
    "    \n",
    "if num == reverse_num:\n",
    "    print(num,\"is a palindrome number\")\n",
    "else: \n",
    "    print(num,\"is not a palindrome number\")"
   ]
  },
  {
   "cell_type": "code",
   "execution_count": 16,
   "id": "e441f0ea-f21e-4f95-a313-850943a0bee0",
   "metadata": {},
   "outputs": [],
   "source": [
    "#We prompt the user to enter a number using the input function and convert it to an integer using the int function, and store it in the variable num.\n",
    "#We create a variable temp and initialize it to the value of num. We also create a variable reverse_num and initialize it to 0.\n",
    "#We use a while loop to reverse the digits of num and store it in reverse_num. Inside the loop, we get the last digit of temp using the modulus operator %, and add it to reverse_num by multiplying it by 10 and adding the digit. We then remove the last digit from temp using integer division //.\n",
    "#After the loop, we check whether num is equal to reverse_num. If they are equal, we print that num is a palindrome number. Otherwise, we print that num is not a palindrome number."
   ]
  },
  {
   "cell_type": "code",
   "execution_count": 18,
   "id": "cd3087ad-b027-4277-9d83-4b5804675133",
   "metadata": {},
   "outputs": [
    {
     "name": "stdout",
     "output_type": "stream",
     "text": [
      "[1, 3, 5, 7, 9, 11, 13, 15, 17, 19, 21, 23, 25, 27, 29, 31, 33, 35, 37, 39, 41, 43, 45, 47, 49, 51, 53, 55, 57, 59, 61, 63, 65, 67, 69, 71, 73, 75, 77, 79, 81, 83, 85, 87, 89, 91, 93, 95, 97, 99]\n"
     ]
    }
   ],
   "source": [
    "#Python code that uses list comprehension to print the odd numbers from 1 to 100:\n",
    "\n",
    "\n",
    "# Create a list of numbers from 1 to 100\n",
    "numbers = [num for num in range(1, 101)]\n",
    "\n",
    "# Filter out the even numbers using another list comprehension\n",
    "odd_numbers = [num for num in numbers if num % 2 != 0]\n",
    "print(odd_numbers)"
   ]
  },
  {
   "cell_type": "code",
   "execution_count": null,
   "id": "7b879420-bbef-42ad-8467-13f2473cb6d5",
   "metadata": {},
   "outputs": [],
   "source": []
  }
 ],
 "metadata": {
  "kernelspec": {
   "display_name": "Python 3 (ipykernel)",
   "language": "python",
   "name": "python3"
  },
  "language_info": {
   "codemirror_mode": {
    "name": "ipython",
    "version": 3
   },
   "file_extension": ".py",
   "mimetype": "text/x-python",
   "name": "python",
   "nbconvert_exporter": "python",
   "pygments_lexer": "ipython3",
   "version": "3.10.8"
  }
 },
 "nbformat": 4,
 "nbformat_minor": 5
}
